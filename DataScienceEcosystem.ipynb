{
 "cells": [
  {
   "cell_type": "markdown",
   "id": "504fbaa1-ee44-4694-b129-70fab7f8cf7a",
   "metadata": {},
   "source": [
    "# Data Science Tools and Ecosystem"
   ]
  },
  {
   "cell_type": "markdown",
   "id": "5e70851a-08f9-45d6-b463-975e38330f17",
   "metadata": {},
   "source": [
    "In this notebook, Data Science Tools and Ecosystem are summarized."
   ]
  },
  {
   "cell_type": "markdown",
   "id": "3704629f-cb29-48c1-9a83-08f8bd4f4b08",
   "metadata": {},
   "source": [
    "Objectives:\n",
    "+ List popular languages used by data scientists.\n",
    "+ List commonly used libraries by data scientists.\n",
    "+ Examples of arithmetic expression evaluation in Python."
   ]
  },
  {
   "cell_type": "markdown",
   "id": "4dd5c034-ec1a-4af0-acc0-9843f9541b1d",
   "metadata": {},
   "source": [
    "Some of the popular languages that Data Scientists use are:"
   ]
  },
  {
   "cell_type": "markdown",
   "id": "bf27697c-dda5-465e-ac97-ab7feec6f218",
   "metadata": {},
   "source": [
    "1. Python\n",
    "2. R\n",
    "3. SQL"
   ]
  },
  {
   "cell_type": "markdown",
   "id": "b2bf5ee3-f465-41ec-bab2-a6e418bab50e",
   "metadata": {},
   "source": [
    "Some of the commonly used libraries used by Data Scientists include:"
   ]
  },
  {
   "cell_type": "markdown",
   "id": "d42f1320-08d3-46cc-b870-37ceb8ae3b06",
   "metadata": {},
   "source": [
    "1. Pandas\n",
    "2. NumPy\n",
    "3. MatPlotLib"
   ]
  },
  {
   "cell_type": "markdown",
   "id": "f7d4d4de-21b6-485a-a1df-f8cc27068e12",
   "metadata": {},
   "source": [
    "| Data Science Tools |\n",
    "-------------\n",
    "| RStudio |\n",
    "| Apache Hadoop |\n",
    "| Apache Spark |\n"
   ]
  },
  {
   "cell_type": "markdown",
   "id": "e4e5e41a-f014-4b20-85b2-bc9ed5208986",
   "metadata": {
    "tags": []
   },
   "source": [
    "### Below are a few examples of evaluating arithmetic expressions in Python"
   ]
  },
  {
   "cell_type": "code",
   "execution_count": 14,
   "id": "c76f6f89-e425-4851-8133-19d7c3fcdf05",
   "metadata": {
    "tags": []
   },
   "outputs": [
    {
     "data": {
      "text/plain": [
       "17"
      ]
     },
     "execution_count": 14,
     "metadata": {},
     "output_type": "execute_result"
    }
   ],
   "source": [
    "# This a simple arithmetic expression to mutiply then add integers\n",
    "(3*4)+5"
   ]
  },
  {
   "cell_type": "code",
   "execution_count": 17,
   "id": "bbd9a842-cc0f-426d-8dc1-cfc732861473",
   "metadata": {
    "tags": []
   },
   "outputs": [
    {
     "data": {
      "text/plain": [
       "3.3333333333333335"
      ]
     },
     "execution_count": 17,
     "metadata": {},
     "output_type": "execute_result"
    }
   ],
   "source": [
    "# This will convert 200 minutes to hours by diving by 60\n",
    "200/60"
   ]
  },
  {
   "cell_type": "markdown",
   "id": "dba1dde8-aeb8-45cc-97f8-a1424912803f",
   "metadata": {
    "tags": []
   },
   "source": [
    "## Author\n",
    "Toaha"
   ]
  },
  {
   "cell_type": "code",
   "execution_count": null,
   "id": "1971ad00-3112-4723-9064-1d987b2df0b7",
   "metadata": {},
   "outputs": [],
   "source": []
  }
 ],
 "metadata": {
  "kernelspec": {
   "display_name": "Python",
   "language": "python",
   "name": "conda-env-python-py"
  },
  "language_info": {
   "codemirror_mode": {
    "name": "ipython",
    "version": 3
   },
   "file_extension": ".py",
   "mimetype": "text/x-python",
   "name": "python",
   "nbconvert_exporter": "python",
   "pygments_lexer": "ipython3",
   "version": "3.7.12"
  }
 },
 "nbformat": 4,
 "nbformat_minor": 5
}
